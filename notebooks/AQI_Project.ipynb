{
 "cells": [
  {
   "cell_type": "code",
   "execution_count": 3,
   "id": "e4a3434b",
   "metadata": {},
   "outputs": [],
   "source": [
    "import re\n",
    "import requests\n",
    "from bs4 import BeautifulSoup, Comment\n",
    "import pandas as pd\n",
    "import numpy as np\n",
    "from concurrent.futures import ThreadPoolExecutor\n",
    "\n",
    "# For Plotting\n",
    "import plotly.graph_objects as go\n",
    "import seaborn as sns\n",
    "import matplotlib.pyplot as plt\n",
    "import plotly.express as px\n",
    "\n",
    "import warnings\n",
    "warnings.filterwarnings(\"ignore\")"
   ]
  },
  {
   "cell_type": "markdown",
   "id": "98755917",
   "metadata": {},
   "source": [
    "Data Extraction¶\n",
    "I have tried to show how we can scrap the data in some basic steps. I Have used the Air Matters for scraping the data of some cities mentioned in this site.\n",
    "https://air-quality.com/"
   ]
  },
  {
   "cell_type": "code",
   "execution_count": 4,
   "id": "4f059560",
   "metadata": {},
   "outputs": [
    {
     "data": {
      "text/plain": [
       "'https://air-quality.com/place/india/akasahebpeta/e683280a?lang=en&standard=naqi_in'"
      ]
     },
     "execution_count": 4,
     "metadata": {},
     "output_type": "execute_result"
    }
   ],
   "source": [
    "# Example with one url\n",
    "city_url=\"https://air-quality.com/place/india/akasahebpeta/e683280a?lang=en&standard=naqi_in\"\n",
    "city_url"
   ]
  },
  {
   "cell_type": "code",
   "execution_count": 5,
   "id": "e19fc5e8",
   "metadata": {},
   "outputs": [
    {
     "name": "stdout",
     "output_type": "stream",
     "text": [
      "Andhra Pradesh, Akasahebpeta\n"
     ]
    }
   ],
   "source": [
    "city_response = requests.get(city_url)\n",
    "city_soup = BeautifulSoup(city_response.content, \"html.parser\")\n",
    "\n",
    "# Extract the city name and state name\n",
    "city_name = city_soup.find(\"h2\").text.strip()\n",
    "state_name = city_soup.find(\"p\").text.strip().split(\", \")[1]\n",
    "print(f\"{state_name}, {city_name}\")"
   ]
  },
  {
   "cell_type": "code",
   "execution_count": 6,
   "id": "787fe6d6",
   "metadata": {},
   "outputs": [
    {
     "name": "stdout",
     "output_type": "stream",
     "text": [
      "25\n"
     ]
    }
   ],
   "source": [
    "# Extract AQI value from HTML comment\n",
    "aqi_comment = city_soup.find(text=lambda text: isinstance(text, Comment) and \"indexValue\" in text)\n",
    "aqi_value = re.search(r\"\\d+\", aqi_comment).group() if aqi_comment else np.NaN\n",
    "print(aqi_value)"
   ]
  },
  {
   "cell_type": "code",
   "execution_count": 7,
   "id": "b07f0007",
   "metadata": {},
   "outputs": [
    {
     "name": "stdout",
     "output_type": "stream",
     "text": [
      "14.6 22.3 None None None\n"
     ]
    }
   ],
   "source": [
    "# Extract pollutant information\n",
    "pollutants = city_soup.find_all(\"div\", class_=\"pollutant-item\")\n",
    "\n",
    "pollutant_data = {}\n",
    "for pollutant in pollutants:\n",
    "    name = pollutant.find(\"div\", class_=\"name\").text.strip()\n",
    "    value = pollutant.find(\"div\", class_=\"value\").text.strip()\n",
    "    pollutant_data[name] = value\n",
    "\n",
    "print(pollutant_data.get(\"PM2.5\"), pollutant_data.get(\"PM10\"), pollutant_data.get(\"O3\"), pollutant_data.get(\"SO2\"), pollutant_data.get(\"CO\"))"
   ]
  },
  {
   "cell_type": "code",
   "execution_count": 8,
   "id": "35404dc7",
   "metadata": {},
   "outputs": [
    {
     "name": "stdout",
     "output_type": "stream",
     "text": [
      "33 57 12  Good\n"
     ]
    }
   ],
   "source": [
    "# Extract weather information\n",
    "temperature = city_soup.find(\"div\", class_=\"temperature\").text.strip().replace(\"℃\", \"\")\n",
    "humidity = city_soup.find(\"div\", class_=\"humidity\").text.strip().replace(\"%\", \"\")\n",
    "wind_speed = city_soup.find(\"div\", class_=\"wind\").text.strip().replace(\"kph\", \"\")\n",
    "type = city_soup.find(\"div\", class_=\"level\").text.strip()\n",
    "print(temperature,humidity,wind_speed,type)"
   ]
  },
  {
   "cell_type": "code",
   "execution_count": 9,
   "id": "03fcd7d5",
   "metadata": {},
   "outputs": [],
   "source": [
    "# Check if GPU is available and use it if possible\n",
    "use_gpu = False\n",
    "try:\n",
    "    import cupy as cp\n",
    "    use_gpu = True\n",
    "except ImportError:\n",
    "    pass"
   ]
  }
 ],
 "metadata": {
  "kernelspec": {
   "display_name": "venv",
   "language": "python",
   "name": "python3"
  },
  "language_info": {
   "codemirror_mode": {
    "name": "ipython",
    "version": 3
   },
   "file_extension": ".py",
   "mimetype": "text/x-python",
   "name": "python",
   "nbconvert_exporter": "python",
   "pygments_lexer": "ipython3",
   "version": "3.12.4"
  }
 },
 "nbformat": 4,
 "nbformat_minor": 5
}
